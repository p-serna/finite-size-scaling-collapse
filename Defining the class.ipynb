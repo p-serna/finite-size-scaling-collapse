{
 "cells": [
  {
   "cell_type": "code",
   "execution_count": 76,
   "metadata": {},
   "outputs": [],
   "source": [
    "import numpy as np\n",
    "from scipy.interpolate import splrep, splev\n",
    "from scipy.optimize import minimize\n",
    "import inspect \n",
    "\n",
    "def clean_knots(x,knots):\n",
    "    '''This function cleans an array of knots, removing those where\n",
    "    no element of x is present\n",
    "    '''\n",
    "    h = np.histogram(x,bins=knots)[0]\n",
    "    sel = np.concatenate(([False], h>0))\n",
    "    sel[-1] = False\n",
    "    return(knots[sel])\n",
    "\n",
    "\n",
    "class FiniteSizeScaling():\n",
    "    ''' This class groups methods to do finite-size scaling of x (Nx3 or Nx4), \n",
    "        where columns are x_i, y_i, (dy_i), L_i, and expected law \n",
    "        y_i = f(map(x_i)).\n",
    "        \n",
    "        inputs: \n",
    "            x : array of N elements or Nx3, Nx4 matrix with columns corresponding to x_i,y_i\n",
    "            y:\n",
    "            dy:\n",
    "            L: \n",
    "            mapx: \n",
    "    '''\n",
    "    def __init__(self, x, y = None,  L = None, dy = None, mapx = None, ncoef = 2):\n",
    "        # Checks for x and y should be here\n",
    "        \n",
    "        # Check for repeated xs\n",
    "        \n",
    "        # If all the data is in x:\n",
    "        if y is  None:\n",
    "            self.x = x[:,0]\n",
    "            self.N = self.x.shape[0]\n",
    "            self.y = x[:,1] \n",
    "            self.L = x[:,-1]\n",
    "            if x.shape[1]>3:\n",
    "                self.wy = 1.0/x[:,2]\n",
    "            else:\n",
    "                self.wy = np.ones(self.N)\n",
    "        else:\n",
    "            self.x = np.array(x)\n",
    "            self.N = self.x.shape[0]\n",
    "            self.y = np.array(y)\n",
    "            if L is None:\n",
    "                print('No sizes were given!')\n",
    "                raise ValueError\n",
    "            else:\n",
    "                self.L = np.array(L)\n",
    "            if dy is None:\n",
    "                self.wy = np.ones(self.N)\n",
    "            else:\n",
    "                self.wy = 1.0/np.array(dy)\n",
    "                \n",
    "        if inspect.isfunction(mapx):\n",
    "            self.mapx = mapx\n",
    "        else:\n",
    "            self.mapx = self.transform0\n",
    "        \n",
    "        self.ncoef = ncoef\n",
    "        self.coefs = np.zeros(self.ncoef)\n",
    "        self.xscaled = np.zeros((self.N,4))\n",
    "        self.minx = None\n",
    "        \n",
    "#     def prefit(self, coefs0 = None):\n",
    "#         ''' Preparing the dataset with coefficients coefs0, sorting \n",
    "#             and avoiding repeated points\n",
    "#         '''\n",
    "#         xscaled = self.mapx(coefs0)\n",
    "#         if len(set(xscaled[:,0]))<self.N:\n",
    "#             print('Warning: repeated x_i,L_i!')\n",
    "#         xscaled[:,0] = xscaled[:,0]*(1.0+np.random.randn(self.N)*1e-8)\n",
    "#         sel = xscaled[:,0].argsort()\n",
    "#         self.xscaled = xscaled[sel,:]\n",
    "#         return self.xscaled\n",
    "    \n",
    "    def prefit(self, coefs0 = None, selection = None):\n",
    "        ''' Preparing the dataset with coefficients coefs0, sorting \n",
    "            and avoiding repeated points\n",
    "        '''\n",
    "        xscaled = self.mapx(coefs0)\n",
    "        if len(set(xscaled[:,0]))<self.N:\n",
    "            print('Warning: repeated x_i,L_i!')\n",
    "        xscaled[:,0] = xscaled[:,0]*(1.0+np.random.randn(self.N)*1e-8)\n",
    "        if selection is None:\n",
    "            sel = xscaled[:,0].argsort()\n",
    "            xscaled = xscaled[sel,:]\n",
    "            self.xscaled = xscaled[sel,:]\n",
    "        else:\n",
    "            xscaled = xscaled[selection,:]\n",
    "            sel = xscaled[:,0].argsort()\n",
    "            xscaled = xscaled[sel,:]\n",
    "            \n",
    "        return xscaled\n",
    "    \n",
    "    def fit(self,coefs0 = None,nknots = 21):\n",
    "        value = self.prefit(coefs0)\n",
    "        #if value!=0:\n",
    "        #    print('Error preparing the data!')\n",
    "        #    raise RuntimeError\n",
    "            \n",
    "        minx = self.findscaling(coefs0,21)\n",
    "        print(minx)\n",
    "\n",
    "        self.xscaled = self.mapx(minx.x)\n",
    "        return\n",
    "    \n",
    "    def errorbars_bootstrap(self,n_coef = None):\n",
    "        print('Not implemented yet')\n",
    "        pass\n",
    "        return\n",
    "    \n",
    "    def plot_scaleddata(self,ax = None, nknots = 0, figsize = (7,5), **kwargs):\n",
    "        if ax is None:\n",
    "            fig = plt.figure(figsize = figsize )\n",
    "            ax  = fig.add_subplot(111)\n",
    "            \n",
    "        xscaled = self.prefit(self.minx.x)\n",
    "        for Lp in set(self.L):\n",
    "            sel = xscaled[:,-1]==Lp\n",
    "            xt = xscaled[sel,:2]\n",
    "            xt.sort(axis=0)\n",
    "            ax.plot(xt[:,0],xt[:,1],'.-',label=Lp,**kwargs)\n",
    "        ax.set_xlabel('x')\n",
    "        ax.set_ylabel('y')\n",
    "        ax.legend()\n",
    "        if nknots >3 :\n",
    "            ysp, _, _, _ = self.createspline(xscaled, nknots = nknots)\n",
    "            xs = np.linspace(xscaled[:,0].min(),xscaled[:,0].max(), 101)\n",
    "            ax.plot(xs,splev(xs,ysp),'k', linewidth = 2.5)\n",
    "        return fig, ax\n",
    "    \n",
    "    def createspline(self, x, nknots = 21):\n",
    "        xtx,xty,xwy = x[:,0],x[:,1],x[:,2]\n",
    "        knots = np.linspace(min(xtx)+1e-6,max(xtx)-1e-6,11)\n",
    "        knots = clean_knots(xtx,knots)\n",
    "        try:\n",
    "            yspl,f2,ie,ms = splrep(xtx,xty,t=knots,\n",
    "                                   k=3,full_output=1, w= xwy)\n",
    "        except Exception as e:\n",
    "            print('Exception building splines:', e)\n",
    "            \n",
    "        return yspl, f2, ie, ms\n",
    "        \n",
    "    def findscaling(self,coefs0 = None, nknots = 21):  \n",
    "        ''' Method to find the scaling, we define a chi2 function and minimize it\n",
    "           nknots: number of knots for the cubic B spline function\n",
    "        '''\n",
    "        def chi2(cf):\n",
    "            xscaled = self.prefit(cf)\n",
    "            yspl, f2, ie, ms = self.createspline(xscaled, nknots)\n",
    "            if ie>0:\n",
    "                print('Exception but not raised!', ie,ms)\n",
    "            return f2 #,ie,ms\n",
    "        \n",
    "        #print(coefs0, chi2(coefs0))\n",
    "        try:\n",
    "            minx = minimize(chi2,coefs0,method = 'Nelder-Mead', options = {'maxiter': 10000})\n",
    "        except Exception as e: \n",
    "            print(\"Exception: \",e)\n",
    "            return\n",
    "        print(minx)\n",
    "        self.minx = minx\n",
    "        ie = self.prefit(minx.x)\n",
    "        return(minx)\n",
    "        \n",
    "    def bootstrap(self, nbts = 100, nknots = 21, full=False):\n",
    "        '''Estimate of error bars through bootstrap without error bars\n",
    "        '''\n",
    "        def chi2g(cf, selection):\n",
    "            xscaled = self.prefit(cf, selection = selection)\n",
    "            yspl, f2, ie, ms = self.createspline(xscaled, nknots)\n",
    "            if ie>0:\n",
    "                print('Exception but not raised!', ie,ms)\n",
    "            return f2 #,ie,ms\n",
    "        \n",
    "        if self.minx is None:\n",
    "            minx = self.findscaling(nknots)\n",
    "            \n",
    "        coefs0 = self.minx.x\n",
    "        cfarray = np.zeros((nbts,coefs0.shape[0]))\n",
    "        for i in range(nbts):\n",
    "            selA = np.random.randint(self.N, size = self.N)\n",
    "            try:\n",
    "                minx = minimize(lambda x: chi2g(x,selA),coefs0,method = 'Nelder-Mead', \n",
    "                                options = {'maxiter': 500})\n",
    "            except Exception as e: \n",
    "                print(\"Exception Bootstrap: \",e)\n",
    "            cfarray[i,:] = minx.x\n",
    "        \n",
    "        if full:\n",
    "            output = cfarray\n",
    "        else:\n",
    "            output = np.column_stack((cfarray.mean(axis = 0),cfarray.std(axis = 0)))\n",
    "        return output\n",
    "    \n",
    "    def transform0(self,coefs):\n",
    "        ''' Basic transformation of the data'''\n",
    "        xscaled = np.zeros((self.N,4))\n",
    "        xscaled[:,0] = (self.x-coefs[0])*self.L**coefs[1]\n",
    "        xscaled[:,1] = self.y\n",
    "        xscaled[:,2] = self.wy\n",
    "        xscaled[:,3] = self.L\n",
    "        return(xscaled)\n",
    "    \n",
    "#     def prefit(self, coefs0 = None, selection = None):\n",
    "#         ''' Preparing the dataset with coefficients coefs0, sorting \n",
    "#             and avoiding repeated points\n",
    "#         '''\n",
    "#         xscaled = self.mapx(coefs0)\n",
    "#         if selection is not None:\n",
    "#             xscaled = xscaled[sel,:]\n",
    "#         if len(set(xscaled[:,0]))<self.N:\n",
    "#             print('Warning: repeated x_i,L_i!')\n",
    "#         xscaled[:,0] = xscaled[:,0]*(1.0+np.random.randn(self.N)*1e-8)\n",
    "#         if selection is None:\n",
    "#             sel = xscaled[:,0].argsort()\n",
    "#             xscaled = xscaled[sel,:]\n",
    "#             self.xscaled = xscaled[sel,:]\n",
    "#         else:\n",
    "#             xscaled = xscaled[selection,:]\n",
    "#             sel = xscaled[:,0].argsort()\n",
    "#             xscaled = xscaled[sel,:]\n",
    "            \n",
    "#         return xscaled"
   ]
  },
  {
   "cell_type": "code",
   "execution_count": 77,
   "metadata": {},
   "outputs": [],
   "source": [
    "import matplotlib.pylab as plt\n",
    "%matplotlib inline"
   ]
  },
  {
   "cell_type": "code",
   "execution_count": 78,
   "metadata": {},
   "outputs": [
    {
     "data": {
      "text/plain": [
       "<matplotlib.legend.Legend at 0x7fca86ef0c10>"
      ]
     },
     "execution_count": 78,
     "metadata": {},
     "output_type": "execute_result"
    },
    {
     "data": {
      "image/png": "[encoded data removed]",
      "text/plain": [
       "<Figure size 432x288 with 1 Axes>"
      ]
     },
     "metadata": {
      "needs_background": "light"
     },
     "output_type": "display_data"
    }
   ],
   "source": [
    "npt = 100\n",
    "nL = 4\n",
    "xs = np.random.rand(npt*nL)\n",
    "Ls = 10*2**(np.arange(npt*nL)//npt)\n",
    "ys = ((xs-0.25)*Ls**0.5)*(1.0+np.random.randn(xs.shape[0])*0.1)\n",
    "for L in set(Ls):\n",
    "    sel = Ls==L\n",
    "    xt = np.column_stack((xs[sel],ys[sel]))\n",
    "    xt.sort(axis=0)\n",
    "    plt.plot(xt[:,0],xt[:,1],'.-',label=L)\n",
    "plt.xlabel('x')\n",
    "plt.ylabel('y')\n",
    "plt.legend()"
   ]
  },
  {
   "cell_type": "code",
   "execution_count": 79,
   "metadata": {},
   "outputs": [],
   "source": [
    "datafss = FiniteSizeScaling(xs,ys,Ls,ys*0.0+0.01)"
   ]
  },
  {
   "cell_type": "code",
   "execution_count": 80,
   "metadata": {},
   "outputs": [
    {
     "data": {
      "text/plain": [
       "(400, 4)"
      ]
     },
     "execution_count": 80,
     "metadata": {},
     "output_type": "execute_result"
    }
   ],
   "source": [
    "datafss.xscaled.shape\n"
   ]
  },
  {
   "cell_type": "code",
   "execution_count": 81,
   "metadata": {},
   "outputs": [
    {
     "data": {
      "text/plain": [
       "[<matplotlib.lines.Line2D at 0x7fca86e07950>]"
      ]
     },
     "execution_count": 81,
     "metadata": {},
     "output_type": "execute_result"
    },
    {
     "data": {
      "image/png": "[encoded data removed]",
      "text/plain": [
       "<Figure size 432x288 with 1 Axes>"
      ]
     },
     "metadata": {
      "needs_background": "light"
     },
     "output_type": "display_data"
    }
   ],
   "source": [
    "coefs0 = np.array([0.25,0.55])\n",
    "chi2 = np.zeros(51)\n",
    "y2s = np.linspace(0.45,0.6,51)\n",
    "for i, y2 in enumerate(y2s):\n",
    "    coefs0[1] = y2\n",
    "    xt = datafss.prefit(coefs0)\n",
    "    #plt.plot(xt[:,0],xt[:,1],'.')\n",
    "    xtx,xty,xwy = xt[:,0],xt[:,1],xt[:,2]\n",
    "    knots = np.linspace(min(xtx)+1e-6,max(xtx)-1e-6,21)\n",
    "    knots = clean_knots(xtx,knots)\n",
    "    yspl,f2,ie,ms = splrep(xtx,xty,t=knots,\n",
    "                           k=3,full_output=1, w= xwy)\n",
    "    #print(f2,ie)\n",
    "    chi2[i] = f2\n",
    "plt.plot(y2s,chi2)"
   ]
  },
  {
   "cell_type": "code",
   "execution_count": 82,
   "metadata": {},
   "outputs": [
    {
     "name": "stdout",
     "output_type": "stream",
     "text": [
      " final_simplex: (array([[0.24991682, 0.49781775],\n",
      "       [0.24991682, 0.49781775],\n",
      "       [0.24991682, 0.49781775]]), array([171184.58857988, 171184.59872207, 171184.60027939]))\n",
      "           fun: 171184.5885798818\n",
      "       message: 'Maximum number of iterations has been exceeded.'\n",
      "          nfev: 26610\n",
      "           nit: 10000\n",
      "        status: 2\n",
      "       success: False\n",
      "             x: array([0.24991682, 0.49781775])\n",
      " final_simplex: (array([[0.24991682, 0.49781775],\n",
      "       [0.24991682, 0.49781775],\n",
      "       [0.24991682, 0.49781775]]), array([171184.58857988, 171184.59872207, 171184.60027939]))\n",
      "           fun: 171184.5885798818\n",
      "       message: 'Maximum number of iterations has been exceeded.'\n",
      "          nfev: 26610\n",
      "           nit: 10000\n",
      "        status: 2\n",
      "       success: False\n",
      "             x: array([0.24991682, 0.49781775])\n"
     ]
    }
   ],
   "source": [
    "coefs0 = np.array([0.1,0.5])\n",
    "datafss.fit(coefs0,nknots = 11)"
   ]
  },
  {
   "cell_type": "code",
   "execution_count": 83,
   "metadata": {},
   "outputs": [
    {
     "data": {
      "text/plain": [
       "(<Figure size 504x360 with 1 Axes>,\n",
       " <matplotlib.axes._subplots.AxesSubplot at 0x7fca86e49490>)"
      ]
     },
     "execution_count": 83,
     "metadata": {},
     "output_type": "execute_result"
    },
    {
     "data": {
      "image/png": "[encoded data removed]",
      "text/plain": [
       "<Figure size 504x360 with 1 Axes>"
      ]
     },
     "metadata": {
      "needs_background": "light"
     },
     "output_type": "display_data"
    }
   ],
   "source": [
    "datafss.plot_scaleddata(alpha = 0.4)\n"
   ]
  },
  {
   "cell_type": "code",
   "execution_count": 85,
   "metadata": {},
   "outputs": [
    {
     "data": {
      "text/plain": [
       "array([[0.25026997, 0.00314407],\n",
       "       [0.50087057, 0.01435194]])"
      ]
     },
     "execution_count": 85,
     "metadata": {},
     "output_type": "execute_result"
    }
   ],
   "source": [
    "datafss.bootstrap(nbts= 100, nknots= 11)"
   ]
  },
  {
   "cell_type": "code",
   "execution_count": 86,
   "metadata": {},
   "outputs": [],
   "source": [
    "full = datafss.bootstrap(nbts= 100, nknots= 11, full=True)"
   ]
  },
  {
   "cell_type": "code",
   "execution_count": 92,
   "metadata": {},
   "outputs": [
    {
     "data": {
      "text/plain": [
       "<matplotlib.collections.PathCollection at 0x7fca866e7050>"
      ]
     },
     "execution_count": 92,
     "metadata": {},
     "output_type": "execute_result"
    },
    {
     "data": {
      "image/png": "[encoded data removed]",
      "text/plain": [
       "<Figure size 1008x216 with 3 Axes>"
      ]
     },
     "metadata": {
      "needs_background": "light"
     },
     "output_type": "display_data"
    }
   ],
   "source": [
    "fig, ax = plt.subplots(1,3,figsize = (14,3))\n",
    "\n",
    "ax[0].hist(full[:,0],bins=31)\n",
    "ax[1].hist(full[:,1],bins=31)\n",
    "ax[2].scatter(full[:,0],full[:,1],alpha=0.6)"
   ]
  },
  {
   "cell_type": "code",
   "execution_count": null,
   "metadata": {},
   "outputs": [],
   "source": []
  }
 ],
 "metadata": {
  "kernelspec": {
   "display_name": "Python 3",
   "language": "python",
   "name": "python3"
  },
  "language_info": {
   "codemirror_mode": {
    "name": "ipython",
    "version": 3
   },
   "file_extension": ".py",
   "mimetype": "text/x-python",
   "name": "python",
   "nbconvert_exporter": "python",
   "pygments_lexer": "ipython3",
   "version": "3.8.0"
  }
 },
 "nbformat": 4,
 "nbformat_minor": 4
}
